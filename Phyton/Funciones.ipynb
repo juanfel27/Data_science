{
 "cells": [
  {
   "cell_type": "markdown",
   "metadata": {},
   "source": [
    "# Funciones"
   ]
  },
  {
   "cell_type": "code",
   "execution_count": 2,
   "metadata": {},
   "outputs": [
    {
     "name": "stdout",
     "output_type": "stream",
     "text": [
      "hola mundo\n"
     ]
    }
   ],
   "source": [
    "def miFuncion():\n",
    "    print(\"hola mundo\")\n",
    "miFuncion()"
   ]
  },
  {
   "cell_type": "code",
   "execution_count": 3,
   "metadata": {},
   "outputs": [
    {
     "name": "stdout",
     "output_type": "stream",
     "text": [
      "hola! Simon\n"
     ]
    }
   ],
   "source": [
    "def saludoPersonalizado(nombre):\n",
    "    print(\"hola!\",nombre)\n",
    "saludoPersonalizado(\"Simon\")"
   ]
  },
  {
   "cell_type": "code",
   "execution_count": 5,
   "metadata": {},
   "outputs": [
    {
     "name": "stdout",
     "output_type": "stream",
     "text": [
      "hola! Maria\n",
      "hola! JUAN\n"
     ]
    }
   ],
   "source": [
    "saludoPersonalizado(\"Maria\")\n",
    "saludoPersonalizado(\"JUAN\")"
   ]
  },
  {
   "cell_type": "code",
   "execution_count": 6,
   "metadata": {},
   "outputs": [
    {
     "name": "stdout",
     "output_type": "stream",
     "text": [
      "hola! mario\n"
     ]
    }
   ],
   "source": [
    "def saludoConFuncion(funcion, nombre):\n",
    "    funcion(nombre)\n",
    "saludoConFuncion(saludoPersonalizado, \"mario\")"
   ]
  },
  {
   "cell_type": "code",
   "execution_count": 7,
   "metadata": {},
   "outputs": [
    {
     "data": {
      "text/plain": [
       "4"
      ]
     },
     "execution_count": 7,
     "metadata": {},
     "output_type": "execute_result"
    }
   ],
   "source": [
    "def elevarPotencia(numero, potencia):\n",
    "    return numero ** potencia\n",
    "elevarPotencia(2,2)"
   ]
  },
  {
   "cell_type": "code",
   "execution_count": 15,
   "metadata": {},
   "outputs": [
    {
     "name": "stdout",
     "output_type": "stream",
     "text": [
      "12\n"
     ]
    }
   ],
   "source": [
    "def miFuncionDetener(numero):\n",
    "    if numero is None:\n",
    "        return\n",
    "    else:\n",
    "        print(numero)\n",
    "numero = 12\n",
    "miFuncionDetener(numero)"
   ]
  },
  {
   "cell_type": "code",
   "execution_count": 37,
   "metadata": {},
   "outputs": [
    {
     "name": "stdout",
     "output_type": "stream",
     "text": [
      "es primo y es el 8\n"
     ]
    }
   ],
   "source": [
    "def isPrimo(numero):\n",
    "    if numero % 2 != 0 and numero % 3 != 0 and numero % numero == 0 and numero % 1 == 0:\n",
    "        return (\"no es primo y es el\", numero)\n",
    "    else:\n",
    "        print(\"es primo y es el\", numero)\n",
    "numero = 8\n",
    "isPrimo(numero)\n",
    "    "
   ]
  },
  {
   "cell_type": "code",
   "execution_count": null,
   "metadata": {
    "collapsed": true
   },
   "outputs": [],
   "source": []
  },
  {
   "cell_type": "code",
   "execution_count": null,
   "metadata": {
    "collapsed": true
   },
   "outputs": [],
   "source": []
  },
  {
   "cell_type": "code",
   "execution_count": null,
   "metadata": {
    "collapsed": true
   },
   "outputs": [],
   "source": []
  }
 ],
 "metadata": {
  "kernelspec": {
   "display_name": "Python 3",
   "language": "python",
   "name": "python3"
  },
  "language_info": {
   "codemirror_mode": {
    "name": "ipython",
    "version": 3
   },
   "file_extension": ".py",
   "mimetype": "text/x-python",
   "name": "python",
   "nbconvert_exporter": "python",
   "pygments_lexer": "ipython3",
   "version": "3.6.1"
  }
 },
 "nbformat": 4,
 "nbformat_minor": 2
}
